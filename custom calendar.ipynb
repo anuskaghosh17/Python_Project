{
 "cells": [
  {
   "cell_type": "code",
   "execution_count": 2,
   "id": "321468aa-6c3e-406c-bb4d-cc8ef9b39a88",
   "metadata": {},
   "outputs": [],
   "source": [
    "import simple_calendar"
   ]
  },
  {
   "cell_type": "code",
   "execution_count": 3,
   "id": "f2030c0c-ded4-436b-849a-89a7e179eea0",
   "metadata": {},
   "outputs": [
    {
     "name": "stdout",
     "output_type": "stream",
     "text": [
      "Calendar for November 2024:\n",
      "   November 2024\n",
      "Mo Tu We Th Fr Sa Su\n",
      "             1  2  3\n",
      " 4  5  6  7  8  9 10\n",
      "11 12 13 14 15 16 17\n",
      "18 19 20 21 22 23 24\n",
      "25 26 27 28 29 30\n",
      "\n"
     ]
    }
   ],
   "source": [
    "print(\"Calendar for November 2024:\")\n",
    "month_calendar = simple_calendar.get_month_calendar(2024, 11)\n",
    "print(month_calendar)"
   ]
  },
  {
   "cell_type": "code",
   "execution_count": 4,
   "id": "14b7088f-87af-40be-8188-325033ee52fd",
   "metadata": {},
   "outputs": [
    {
     "name": "stdout",
     "output_type": "stream",
     "text": [
      "Is 2024 a leap year?\n"
     ]
    },
    {
     "data": {
      "text/plain": [
       "True"
      ]
     },
     "execution_count": 4,
     "metadata": {},
     "output_type": "execute_result"
    }
   ],
   "source": [
    "print(\"Is 2024 a leap year?\")\n",
    "simple_calendar.is_leap_year(2024)"
   ]
  },
  {
   "cell_type": "code",
   "execution_count": 5,
   "id": "937edf4f-1620-431b-9155-8849d481d402",
   "metadata": {},
   "outputs": [
    {
     "name": "stdout",
     "output_type": "stream",
     "text": [
      "Day of the week for 2024-11-25:\n"
     ]
    },
    {
     "data": {
      "text/plain": [
       "'Monday'"
      ]
     },
     "execution_count": 5,
     "metadata": {},
     "output_type": "execute_result"
    }
   ],
   "source": [
    "print(\"Day of the week for 2024-11-25:\")\n",
    "simple_calendar.get_day_of_week(2024, 11, 25)"
   ]
  },
  {
   "cell_type": "code",
   "execution_count": 6,
   "id": "bfb78b58-3017-4684-9a00-e781ffd84691",
   "metadata": {},
   "outputs": [
    {
     "name": "stdout",
     "output_type": "stream",
     "text": [
      "Number of days in November 2024:\n"
     ]
    },
    {
     "data": {
      "text/plain": [
       "30"
      ]
     },
     "execution_count": 6,
     "metadata": {},
     "output_type": "execute_result"
    }
   ],
   "source": [
    "print(\"Number of days in November 2024:\")\n",
    "simple_calendar.days_in_month(2024, 11)"
   ]
  },
  {
   "cell_type": "code",
   "execution_count": 7,
   "id": "4fc79f73-bdf2-4108-8d29-1a472ac6bed4",
   "metadata": {},
   "outputs": [
    {
     "name": "stdout",
     "output_type": "stream",
     "text": [
      "Current date information:\n",
      "{'year': 2024, 'month': 11, 'day': 25, 'weekday': 'Monday'}\n"
     ]
    }
   ],
   "source": [
    "print(\"Current date information:\")\n",
    "current_info = simple_calendar.current_date_info()\n",
    "print(current_info)"
   ]
  }
 ],
 "metadata": {
  "kernelspec": {
   "display_name": "Python 3 (ipykernel)",
   "language": "python",
   "name": "python3"
  },
  "language_info": {
   "codemirror_mode": {
    "name": "ipython",
    "version": 3
   },
   "file_extension": ".py",
   "mimetype": "text/x-python",
   "name": "python",
   "nbconvert_exporter": "python",
   "pygments_lexer": "ipython3",
   "version": "3.12.7"
  }
 },
 "nbformat": 4,
 "nbformat_minor": 5
}
